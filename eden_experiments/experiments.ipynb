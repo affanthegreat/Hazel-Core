{
 "cells": [
  {
   "cell_type": "code",
   "execution_count": 14,
   "metadata": {},
   "outputs": [
    {
     "name": "stdout",
     "output_type": "stream",
     "text": [
      "Current level: 6\n"
     ]
    }
   ],
   "source": [
    "def get_level_from_experience_points(experience_points, base_points=750, multiplier=1.5):\n",
    "    \"\"\"\n",
    "    Calculates the level of the user based on their current experience points.\n",
    "    Assumes that each level requires an exponential increase in points from the previous level.\n",
    "    \"\"\"\n",
    "    if experience_points < get_experience_points_for_level(1, base_points, multiplier):\n",
    "        return 0\n",
    "    \n",
    "    level = 1\n",
    "    while experience_points >= get_experience_points_for_level(level, base_points, multiplier):\n",
    "        experience_points -= get_experience_points_for_level(level, base_points, multiplier)\n",
    "        level += 1\n",
    "    return level - 1\n",
    "\n",
    "# Example usage:\n",
    "current_experience_points =21500\n",
    "current_level = get_level_from_experience_points(current_experience_points)\n",
    "print(f\"Current level: {current_level}\")"
   ]
  },
  {
   "cell_type": "code",
   "execution_count": null,
   "metadata": {},
   "outputs": [],
   "source": []
  }
 ],
 "metadata": {
  "kernelspec": {
   "display_name": "EDEN",
   "language": "python",
   "name": "python3"
  },
  "language_info": {
   "codemirror_mode": {
    "name": "ipython",
    "version": 3
   },
   "file_extension": ".py",
   "mimetype": "text/x-python",
   "name": "python",
   "nbconvert_exporter": "python",
   "pygments_lexer": "ipython3",
   "version": "3.11.0"
  },
  "orig_nbformat": 4
 },
 "nbformat": 4,
 "nbformat_minor": 2
}
